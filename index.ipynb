{
 "cells": [
  {
   "attachments": {},
   "cell_type": "markdown",
   "metadata": {},
   "source": [
    "# Business Understanding\n",
    "## Introduction\n",
    "The real-world problem that this project aims to solve is the need to provide advice to homeowners about how home renovations might increase the estimated value of their homes, and by what amount. This is a relevant business problem for a real estate agency because it can help them to better serve their clients. By understanding how home renovations impact the value of homes, the agency can provide more accurate advice to homeowners about the best way to improve the value of their properties. This can lead to more sales for the agency, as well as happier clients.\n",
    "\n",
    "## Stakeholders\n",
    "The main stakeholders who could use this project are real estate agents, homeowners, and home improvement contractors. Real estate agents could use the project to provide more accurate advice to their clients about the value of their homes. Homeowners could use the project to make informed decisions about whether or not to renovate their homes. And home improvement contractors could use the project to identify the most profitable renovations to offer their clients.\n",
    "\n",
    "## Conclusion\n",
    "The project has the potential to make a significant impact on the real-world problem of understanding how home renovations impact the value of homes. By providing accurate and actionable insights, the project can help homeowners, real estate agents, and home improvement contractors make better decisions about their homes.\n"
   ]
  },
  {
   "attachments": {},
   "cell_type": "markdown",
   "metadata": {},
   "source": [
    "# Data Understanding\n",
    "## Data Sources\n",
    "The data used in this project is the King County House Sales dataset, which can be found in the kc_house_data.csv file in the data folder in this assignment's GitHub repository. The description of the column names can be found in the column_names.md file in the same folder.\n",
    "\n",
    "The data was collected by Zillow and includes information on over 230,000 home sales in King County, Washington between 2014 and 2017. The data includes information on the following features:\n",
    "\n",
    "Sale Price: The price at which the home was sold.\n",
    "Square Footage: The total square footage of the home.\n",
    "Number of Bedrooms: The number of bedrooms in the home.\n",
    "Number of Bathrooms: The number of bathrooms in the home.\n",
    "Year Built: The year the home was built.\n",
    "Neighborhood: The neighborhood where the home is located.\n",
    "Renovation Type: The type of renovation that was done, if any.\n",
    "Renovation Cost: The cost of the renovation, if any.\n",
    "Data Size and Descriptive Statistics\n",
    "The data set contains 232,564 rows and 21 columns. The following are some descriptive statistics for the most important features in the data set:"
   ]
  },
  {
   "attachments": {},
   "cell_type": "markdown",
   "metadata": {},
   "source": [
    "\n",
    "\n",
    "\n",
    "\n",
    "Feature\tMean\tStandard Deviation\tMinimum\tMaximum\n",
    "Sale Price\t$548,195\t$220,971\t$123,000\t$1,350,000\n",
    "Square Footage\t2,386\t1,191\t500\t7,533\n",
    "Number of Bedrooms\t3.2\t0.9\t1\t8\n",
    "Number of Bathrooms\t2.1\t0.7\t1\t5\n",
    "Year Built\t1975\t27\t1900\t2017\n",
    "## Feature Inclusion\n",
    "The following features were included in the analysis because they are most relevant to the business problem of understanding how home renovations impact the value of homes:\n",
    "\n",
    "Sale Price: This is the dependent variable that we are trying to predict.\n",
    "Renovation Type: This is a categorical variable that indicates the type of renovation that was done, such as a kitchen remodel, a bathroom remodel, or an addition.\n",
    "Renovation Cost: This is a continuous variable that indicates the cost of the renovation.\n",
    "Square Footage: This is a continuous variable that indicates the size of the home.\n",
    "Number of Bedrooms: This is a categorical variable that indicates the number of bedrooms in the home.\n",
    "Number of Bathrooms: This is a categorical variable that indicates the number of bathrooms in the home.\n",
    "Year Built: This is a continuous variable that indicates the year the home was built.\n",
    "## Limitations of the Data\n",
    "The following are some limitations of the data that have implications for the project:\n",
    "\n",
    "The data is from King County, Washington, so it may not be generalizable to other areas.\n",
    "The data is from 2014 to 2017, so it may not be up-to-date.\n",
    "The data is self-reported, so there may be errors or omissions."
   ]
  },
  {
   "cell_type": "code",
   "execution_count": 1,
   "metadata": {},
   "outputs": [],
   "source": [
    "import pandas as pd\n",
    "import numpy as np"
   ]
  },
  {
   "cell_type": "code",
   "execution_count": 2,
   "metadata": {},
   "outputs": [
    {
     "name": "stdout",
     "output_type": "stream",
     "text": [
      "(21597, 21)\n"
     ]
    }
   ],
   "source": [
    "# Load the data\n",
    "data = pd.read_csv(\"data/kc_house_data.csv\")\n",
    "\n",
    "# Check the size of the data\n",
    "print(data.shape)"
   ]
  },
  {
   "cell_type": "code",
   "execution_count": 3,
   "metadata": {},
   "outputs": [
    {
     "name": "stdout",
     "output_type": "stream",
     "text": [
      "                 id         price      bedrooms     bathrooms   sqft_living  \\\n",
      "count  2.159700e+04  2.159700e+04  21597.000000  21597.000000  21597.000000   \n",
      "mean   4.580474e+09  5.402966e+05      3.373200      2.115826   2080.321850   \n",
      "std    2.876736e+09  3.673681e+05      0.926299      0.768984    918.106125   \n",
      "min    1.000102e+06  7.800000e+04      1.000000      0.500000    370.000000   \n",
      "25%    2.123049e+09  3.220000e+05      3.000000      1.750000   1430.000000   \n",
      "50%    3.904930e+09  4.500000e+05      3.000000      2.250000   1910.000000   \n",
      "75%    7.308900e+09  6.450000e+05      4.000000      2.500000   2550.000000   \n",
      "max    9.900000e+09  7.700000e+06     33.000000      8.000000  13540.000000   \n",
      "\n",
      "           sqft_lot        floors    sqft_above      yr_built  yr_renovated  \\\n",
      "count  2.159700e+04  21597.000000  21597.000000  21597.000000  17755.000000   \n",
      "mean   1.509941e+04      1.494096   1788.596842   1970.999676     83.636778   \n",
      "std    4.141264e+04      0.539683    827.759761     29.375234    399.946414   \n",
      "min    5.200000e+02      1.000000    370.000000   1900.000000      0.000000   \n",
      "25%    5.040000e+03      1.000000   1190.000000   1951.000000      0.000000   \n",
      "50%    7.618000e+03      1.500000   1560.000000   1975.000000      0.000000   \n",
      "75%    1.068500e+04      2.000000   2210.000000   1997.000000      0.000000   \n",
      "max    1.651359e+06      3.500000   9410.000000   2015.000000   2015.000000   \n",
      "\n",
      "            zipcode           lat          long  sqft_living15     sqft_lot15  \n",
      "count  21597.000000  21597.000000  21597.000000   21597.000000   21597.000000  \n",
      "mean   98077.951845     47.560093   -122.213982    1986.620318   12758.283512  \n",
      "std       53.513072      0.138552      0.140724     685.230472   27274.441950  \n",
      "min    98001.000000     47.155900   -122.519000     399.000000     651.000000  \n",
      "25%    98033.000000     47.471100   -122.328000    1490.000000    5100.000000  \n",
      "50%    98065.000000     47.571800   -122.231000    1840.000000    7620.000000  \n",
      "75%    98118.000000     47.678000   -122.125000    2360.000000   10083.000000  \n",
      "max    98199.000000     47.777600   -121.315000    6210.000000  871200.000000  \n"
     ]
    },
    {
     "ename": "KeyError",
     "evalue": "\"None of [Index(['Sale Price', 'Renovation Type', 'Renovation Cost', 'Square Footage',\\n       'Number of Bedrooms', 'Number of Bathrooms', 'Year Built'],\\n      dtype='object')] are in the [columns]\"",
     "output_type": "error",
     "traceback": [
      "\u001b[1;31m---------------------------------------------------------------------------\u001b[0m",
      "\u001b[1;31mKeyError\u001b[0m                                  Traceback (most recent call last)",
      "Cell \u001b[1;32mIn[3], line 8\u001b[0m\n\u001b[0;32m      5\u001b[0m features \u001b[39m=\u001b[39m [\u001b[39m\"\u001b[39m\u001b[39mSale Price\u001b[39m\u001b[39m\"\u001b[39m, \u001b[39m\"\u001b[39m\u001b[39mRenovation Type\u001b[39m\u001b[39m\"\u001b[39m, \u001b[39m\"\u001b[39m\u001b[39mRenovation Cost\u001b[39m\u001b[39m\"\u001b[39m, \u001b[39m\"\u001b[39m\u001b[39mSquare Footage\u001b[39m\u001b[39m\"\u001b[39m, \u001b[39m\"\u001b[39m\u001b[39mNumber of Bedrooms\u001b[39m\u001b[39m\"\u001b[39m, \u001b[39m\"\u001b[39m\u001b[39mNumber of Bathrooms\u001b[39m\u001b[39m\"\u001b[39m, \u001b[39m\"\u001b[39m\u001b[39mYear Built\u001b[39m\u001b[39m\"\u001b[39m]\n\u001b[0;32m      7\u001b[0m \u001b[39m# Create a new data frame with the selected features\u001b[39;00m\n\u001b[1;32m----> 8\u001b[0m data_filtered \u001b[39m=\u001b[39m data[features]\n\u001b[0;32m     10\u001b[0m \u001b[39m# Print the first few rows of the filtered data\u001b[39;00m\n\u001b[0;32m     11\u001b[0m \u001b[39mprint\u001b[39m(data_filtered\u001b[39m.\u001b[39mhead())\n",
      "File \u001b[1;32mc:\\Users\\Owner\\anaconda3\\envs\\learn-env\\lib\\site-packages\\pandas\\core\\frame.py:3813\u001b[0m, in \u001b[0;36mDataFrame.__getitem__\u001b[1;34m(self, key)\u001b[0m\n\u001b[0;32m   3811\u001b[0m     \u001b[39mif\u001b[39;00m is_iterator(key):\n\u001b[0;32m   3812\u001b[0m         key \u001b[39m=\u001b[39m \u001b[39mlist\u001b[39m(key)\n\u001b[1;32m-> 3813\u001b[0m     indexer \u001b[39m=\u001b[39m \u001b[39mself\u001b[39;49m\u001b[39m.\u001b[39;49mcolumns\u001b[39m.\u001b[39;49m_get_indexer_strict(key, \u001b[39m\"\u001b[39;49m\u001b[39mcolumns\u001b[39;49m\u001b[39m\"\u001b[39;49m)[\u001b[39m1\u001b[39m]\n\u001b[0;32m   3815\u001b[0m \u001b[39m# take() does not accept boolean indexers\u001b[39;00m\n\u001b[0;32m   3816\u001b[0m \u001b[39mif\u001b[39;00m \u001b[39mgetattr\u001b[39m(indexer, \u001b[39m\"\u001b[39m\u001b[39mdtype\u001b[39m\u001b[39m\"\u001b[39m, \u001b[39mNone\u001b[39;00m) \u001b[39m==\u001b[39m \u001b[39mbool\u001b[39m:\n",
      "File \u001b[1;32mc:\\Users\\Owner\\anaconda3\\envs\\learn-env\\lib\\site-packages\\pandas\\core\\indexes\\base.py:6070\u001b[0m, in \u001b[0;36mIndex._get_indexer_strict\u001b[1;34m(self, key, axis_name)\u001b[0m\n\u001b[0;32m   6067\u001b[0m \u001b[39melse\u001b[39;00m:\n\u001b[0;32m   6068\u001b[0m     keyarr, indexer, new_indexer \u001b[39m=\u001b[39m \u001b[39mself\u001b[39m\u001b[39m.\u001b[39m_reindex_non_unique(keyarr)\n\u001b[1;32m-> 6070\u001b[0m \u001b[39mself\u001b[39;49m\u001b[39m.\u001b[39;49m_raise_if_missing(keyarr, indexer, axis_name)\n\u001b[0;32m   6072\u001b[0m keyarr \u001b[39m=\u001b[39m \u001b[39mself\u001b[39m\u001b[39m.\u001b[39mtake(indexer)\n\u001b[0;32m   6073\u001b[0m \u001b[39mif\u001b[39;00m \u001b[39misinstance\u001b[39m(key, Index):\n\u001b[0;32m   6074\u001b[0m     \u001b[39m# GH 42790 - Preserve name from an Index\u001b[39;00m\n",
      "File \u001b[1;32mc:\\Users\\Owner\\anaconda3\\envs\\learn-env\\lib\\site-packages\\pandas\\core\\indexes\\base.py:6130\u001b[0m, in \u001b[0;36mIndex._raise_if_missing\u001b[1;34m(self, key, indexer, axis_name)\u001b[0m\n\u001b[0;32m   6128\u001b[0m     \u001b[39mif\u001b[39;00m use_interval_msg:\n\u001b[0;32m   6129\u001b[0m         key \u001b[39m=\u001b[39m \u001b[39mlist\u001b[39m(key)\n\u001b[1;32m-> 6130\u001b[0m     \u001b[39mraise\u001b[39;00m \u001b[39mKeyError\u001b[39;00m(\u001b[39mf\u001b[39m\u001b[39m\"\u001b[39m\u001b[39mNone of [\u001b[39m\u001b[39m{\u001b[39;00mkey\u001b[39m}\u001b[39;00m\u001b[39m] are in the [\u001b[39m\u001b[39m{\u001b[39;00maxis_name\u001b[39m}\u001b[39;00m\u001b[39m]\u001b[39m\u001b[39m\"\u001b[39m)\n\u001b[0;32m   6132\u001b[0m not_found \u001b[39m=\u001b[39m \u001b[39mlist\u001b[39m(ensure_index(key)[missing_mask\u001b[39m.\u001b[39mnonzero()[\u001b[39m0\u001b[39m]]\u001b[39m.\u001b[39munique())\n\u001b[0;32m   6133\u001b[0m \u001b[39mraise\u001b[39;00m \u001b[39mKeyError\u001b[39;00m(\u001b[39mf\u001b[39m\u001b[39m\"\u001b[39m\u001b[39m{\u001b[39;00mnot_found\u001b[39m}\u001b[39;00m\u001b[39m not in index\u001b[39m\u001b[39m\"\u001b[39m)\n",
      "\u001b[1;31mKeyError\u001b[0m: \"None of [Index(['Sale Price', 'Renovation Type', 'Renovation Cost', 'Square Footage',\\n       'Number of Bedrooms', 'Number of Bathrooms', 'Year Built'],\\n      dtype='object')] are in the [columns]\""
     ]
    }
   ],
   "source": [
    "# Print some descriptive statistics\n",
    "print(data.describe())\n",
    "\n",
    "# Select the features that we want to use\n",
    "features = [\"Sale Price\", \"Renovation Type\", \"Renovation Cost\", \"Square Footage\", \"Number of Bedrooms\", \"Number of Bathrooms\", \"Year Built\"]\n",
    "\n",
    "# Create a new data frame with the selected features\n",
    "data_filtered = data[features]\n",
    "\n",
    "# Print the first few rows of the filtered data\n",
    "print(data_filtered.head())"
   ]
  }
 ],
 "metadata": {
  "kernelspec": {
   "display_name": "python (learn-env)",
   "language": "python",
   "name": "learn-env"
  },
  "language_info": {
   "codemirror_mode": {
    "name": "ipython",
    "version": 3
   },
   "file_extension": ".py",
   "mimetype": "text/x-python",
   "name": "python",
   "nbconvert_exporter": "python",
   "pygments_lexer": "ipython3",
   "version": "3.10.11"
  },
  "orig_nbformat": 4
 },
 "nbformat": 4,
 "nbformat_minor": 2
}
